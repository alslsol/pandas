{
 "cells": [
  {
   "cell_type": "code",
   "execution_count": 1,
   "id": "2bcb57e5-667b-4597-b566-9bdeaf71bc49",
   "metadata": {},
   "outputs": [],
   "source": [
    "import pandas as pd\n",
    "import numpy as np"
   ]
  },
  {
   "cell_type": "code",
   "execution_count": 6,
   "id": "cc66c624-75cf-45ec-9ae3-f6469f9c7746",
   "metadata": {},
   "outputs": [
    {
     "name": "stdout",
     "output_type": "stream",
     "text": [
      "[100 101 102 103 104 105 106 107 108 109]\n"
     ]
    }
   ],
   "source": [
    "arr = np.arange(100, 110)\n",
    "print(arr)\n",
    "\n"
   ]
  },
  {
   "cell_type": "code",
   "execution_count": 9,
   "id": "1ffd097a-1d69-43aa-9df9-0f258499bbe4",
   "metadata": {},
   "outputs": [
    {
     "name": "stdout",
     "output_type": "stream",
     "text": [
      "0    100\n",
      "1    101\n",
      "2    102\n",
      "3    103\n",
      "4    104\n",
      "5    105\n",
      "6    106\n",
      "7    107\n",
      "8    108\n",
      "9    109\n",
      "dtype: int64\n"
     ]
    }
   ],
   "source": [
    "# S 대문자 >> 클래스를 만들려는 것, 인자로 arr 넣음\n",
    "s = pd.Series(arr)\n",
    "print(s)\n",
    "\n",
    "# 위에서 아래로 데이터 쌓음, 왼쪽에 데이터의 인덱스 적혀 있음 >> 인덱스 접근 가능\n",
    "    # 스프레드 시트에서 하나의 열만 쓴 것과 다름 없는 형태임"
   ]
  },
  {
   "cell_type": "code",
   "execution_count": 10,
   "id": "d6fa4757-7433-4d95-a7ab-9048815cb0c9",
   "metadata": {},
   "outputs": [
    {
     "name": "stdout",
     "output_type": "stream",
     "text": [
      "0    100\n",
      "1    101\n",
      "2    102\n",
      "3    103\n",
      "4    104\n",
      "5    105\n",
      "6    106\n",
      "7    107\n",
      "8    108\n",
      "9    109\n",
      "dtype: int32\n"
     ]
    }
   ],
   "source": [
    "s = pd.Series(arr, dtype='int32') # 데이터 타입 변경하기 >> float(소수)로도 변경 가능\n",
    "print(s)"
   ]
  },
  {
   "cell_type": "code",
   "execution_count": 12,
   "id": "e3700c8a-4086-48f0-ae23-09d2916d658b",
   "metadata": {},
   "outputs": [
    {
     "name": "stdout",
     "output_type": "stream",
     "text": [
      "0     kim\n",
      "1     lee\n",
      "2    park\n",
      "dtype: object\n"
     ]
    }
   ],
   "source": [
    "# 글자 만들기\n",
    "\n",
    "s = pd.Series(['kim', 'lee', 'park'])\n",
    "print(s)\n",
    "# 데이터 형태 object: 문자 혹은 문자/숫자 복합된 형태"
   ]
  },
  {
   "cell_type": "code",
   "execution_count": 14,
   "id": "cd4e5e75-35ac-4953-b975-7a49e95c8647",
   "metadata": {},
   "outputs": [
    {
     "name": "stdout",
     "output_type": "stream",
     "text": [
      "0        1\n",
      "1        2\n",
      "2        3\n",
      "3        1\n",
      "4    hello\n",
      "dtype: object\n"
     ]
    }
   ],
   "source": [
    "s = pd.Series([1,2,3, '1', 'hello'])\n",
    "print(s)\n",
    "# 더 넓은 형태의 데이터형으로 형변환됨 >> 이때 object는 문자 의미"
   ]
  },
  {
   "cell_type": "code",
   "execution_count": 18,
   "id": "1838deea-9753-4632-8fd4-68247b21dd5a",
   "metadata": {},
   "outputs": [
    {
     "data": {
      "text/plain": [
       "'hello'"
      ]
     },
     "execution_count": 18,
     "metadata": {},
     "output_type": "execute_result"
    }
   ],
   "source": [
    "# 인덱스 접근: 근데 음수 인덱싱은 지원X\n",
    "s[4]"
   ]
  },
  {
   "cell_type": "code",
   "execution_count": 20,
   "id": "5954167a-8bc2-429c-8525-f23b49f86fef",
   "metadata": {},
   "outputs": [
    {
     "data": {
      "text/plain": [
       "RangeIndex(start=0, stop=5, step=1)"
      ]
     },
     "execution_count": 20,
     "metadata": {},
     "output_type": "execute_result"
    }
   ],
   "source": [
    "s.index\n",
    "# s의 데이터가 어떤 형태로 인덱스 생성됐는지 출력해줌"
   ]
  },
  {
   "cell_type": "code",
   "execution_count": 28,
   "id": "8365f614-977e-4d9e-aa36-0461c92d55ee",
   "metadata": {},
   "outputs": [
    {
     "data": {
      "text/plain": [
       "'kim'"
      ]
     },
     "execution_count": 28,
     "metadata": {},
     "output_type": "execute_result"
    }
   ],
   "source": [
    "names = pd.Series(['kim', 'lee', 'park'], index = ['a', 'b', 'c'])\n",
    "# 인덱스 설정 직접 할 수 있음 >> 인덱스가 숫자 아니어도 됨\n",
    "    # 칼럼에 인덱스 부여 가능 >> 부여한 인덱스로 접근 가능\n",
    "names['a']"
   ]
  },
  {
   "cell_type": "code",
   "execution_count": 29,
   "id": "d8379651-dd4e-4e29-af7f-47110f15387c",
   "metadata": {},
   "outputs": [
    {
     "data": {
      "text/plain": [
       "Index(['a', 'b', 'c'], dtype='object')"
      ]
     },
     "execution_count": 29,
     "metadata": {},
     "output_type": "execute_result"
    }
   ],
   "source": [
    "names.index # 내가 지정한 인덱스가 뜸"
   ]
  },
  {
   "cell_type": "code",
   "execution_count": 31,
   "id": "615516fe-1262-43da-9ea8-dd4451bdbbc8",
   "metadata": {},
   "outputs": [
    {
     "data": {
      "text/plain": [
       "'kim'"
      ]
     },
     "execution_count": 31,
     "metadata": {},
     "output_type": "execute_result"
    }
   ],
   "source": [
    "names.iloc[0] # iloc 활용하면, 에러 없이 abc 말고 숫자로도 인덱스 접근 가능"
   ]
  },
  {
   "cell_type": "code",
   "execution_count": 35,
   "id": "9e43fdf4-3a11-451a-8149-8ce78b18fcca",
   "metadata": {},
   "outputs": [
    {
     "data": {
      "text/plain": [
       "1"
      ]
     },
     "execution_count": 35,
     "metadata": {},
     "output_type": "execute_result"
    }
   ],
   "source": [
    "names.values # 데이터 값만 출력\n",
    "names.shape # 총 데이터 갯수 출력해줌 >> 차원 갯수 알려줌\n",
    "names.ndim # 몇 차원인지 알려줌"
   ]
  },
  {
   "cell_type": "code",
   "execution_count": 36,
   "id": "a8289754-f139-4997-b6a1-aee54e3b1cc0",
   "metadata": {},
   "outputs": [
    {
     "name": "stdout",
     "output_type": "stream",
     "text": [
      "0    1.0\n",
      "1    2.0\n",
      "2    3.0\n",
      "3    NaN\n",
      "dtype: float64\n"
     ]
    }
   ],
   "source": [
    "# NaN\n",
    "\n",
    "s = pd.Series([1,2,3, np.nan]) # 결측값 직접 지정해 넣기\n",
    "print(s)"
   ]
  },
  {
   "cell_type": "code",
   "execution_count": 42,
   "id": "4a566010-f37e-4361-863c-d42613f83289",
   "metadata": {},
   "outputs": [
    {
     "name": "stdout",
     "output_type": "stream",
     "text": [
      "a    banana\n",
      "b     apple\n",
      "c     grape\n",
      "d       NaN\n",
      "dtype: object\n"
     ]
    },
    {
     "data": {
      "text/plain": [
       "d      NaN\n",
       "b    apple\n",
       "dtype: object"
      ]
     },
     "execution_count": 42,
     "metadata": {},
     "output_type": "execute_result"
    }
   ],
   "source": [
    "# 팬시 색인\n",
    "\n",
    "f = ['banana', 'apple', 'grape', np.nan] # 마지막 값은 결측값으로 설정\n",
    "s = pd.Series(f, index = list('abcd')) # abcd를 인덱스로 설정\n",
    "print(s)\n",
    "\n",
    "s['a'] # \n",
    "s[['d', 'a']] # 특정한 요소 하나를 내가 지정한 순서대로 가져올 때 팬시 인덱싱 사용\n",
    "\n",
    "s.iloc[[3,1]] # 알파벳으로 칼럼 설정했는데, iloc 사용하면, 숫자로도 인덱싱 접근 가능"
   ]
  },
  {
   "cell_type": "code",
   "execution_count": 44,
   "id": "cefcf8dd-b68f-4dae-9b1b-a280c979bd83",
   "metadata": {},
   "outputs": [
    {
     "data": {
      "text/plain": [
       "a    banana\n",
       "c     grape\n",
       "dtype: object"
      ]
     },
     "execution_count": 44,
     "metadata": {},
     "output_type": "execute_result"
    }
   ],
   "source": [
    "# bool indexing: 원하는 정보만 출력하기\n",
    "s[[True, False, True, False]] # 그러면 해당 위치의 true인 값만 나오게 됨"
   ]
  },
  {
   "cell_type": "code",
   "execution_count": 46,
   "id": "9f06790c-e280-4ba4-9c64-c0464636c067",
   "metadata": {},
   "outputs": [
    {
     "data": {
      "text/plain": [
       "a    banana\n",
       "dtype: object"
      ]
     },
     "execution_count": 46,
     "metadata": {},
     "output_type": "execute_result"
    }
   ],
   "source": [
    "s == 'banana'\n",
    "s[s == 'banana'] # 바나나인 것만 s 데이터에서 추출하기"
   ]
  },
  {
   "cell_type": "code",
   "execution_count": 49,
   "id": "92d2497d-526c-48a0-8fe1-f997f930c423",
   "metadata": {},
   "outputs": [
    {
     "data": {
      "text/plain": [
       "3    4\n",
       "4    5\n",
       "5    6\n",
       "dtype: int64"
      ]
     },
     "execution_count": 49,
     "metadata": {},
     "output_type": "execute_result"
    }
   ],
   "source": [
    "s = pd.Series([1,2,3,4,5,6])\n",
    "s[s > 3] # 데이터 값이 3을 초과하는 것만 추출해 출력하기"
   ]
  },
  {
   "cell_type": "code",
   "execution_count": 58,
   "id": "bd3e316b-a9e9-4760-8571-2a2291e44b34",
   "metadata": {},
   "outputs": [
    {
     "name": "stdout",
     "output_type": "stream",
     "text": [
      "0     1.0\n",
      "1     3.0\n",
      "2     NaN\n",
      "3    10.0\n",
      "4    11.0\n",
      "5     NaN\n",
      "dtype: float64\n"
     ]
    },
    {
     "data": {
      "text/plain": [
       "0     1.0\n",
       "1     3.0\n",
       "3    10.0\n",
       "4    11.0\n",
       "dtype: float64"
      ]
     },
     "execution_count": 58,
     "metadata": {},
     "output_type": "execute_result"
    }
   ],
   "source": [
    "# 결측치 처리\n",
    "s = pd.Series([1,3,np.nan,10,11,np.nan]) # 결측치 포함된 정보 만들기\n",
    "print(s)\n",
    "\n",
    "# nan 제외하려면?\n",
    "s.isnull() # nan 값 가진 경우 true 도출함 >> 이거 활용해 불리언 인덱싱 가능\n",
    "\n",
    "s[s.isnull()] # nan 값인 인덱스만 추출하기\n",
    "s[s.isna()] # 동일 코드\n",
    "\n",
    "s[s.notnull()] # nan이 아닌 인덱스만 추출하기\n",
    "s[s.notna()] # 동일 코드\n"
   ]
  },
  {
   "cell_type": "code",
   "execution_count": 59,
   "id": "1c8f65f8-41f7-4e55-9431-a31be5733bad",
   "metadata": {},
   "outputs": [
    {
     "data": {
      "text/plain": [
       "1    3.0\n",
       "2    NaN\n",
       "dtype: float64"
      ]
     },
     "execution_count": 59,
     "metadata": {},
     "output_type": "execute_result"
    }
   ],
   "source": [
    "# slicing\n",
    "\n",
    "s[1:3] # 1번째부터 2번째까지 자르기"
   ]
  },
  {
   "cell_type": "code",
   "execution_count": 61,
   "id": "4eda1bed-5cb5-405e-83aa-dc82589a4801",
   "metadata": {},
   "outputs": [
    {
     "data": {
      "text/plain": [
       "a    banana\n",
       "b     apple\n",
       "dtype: object"
      ]
     },
     "execution_count": 61,
     "metadata": {},
     "output_type": "execute_result"
    }
   ],
   "source": [
    "# 근데 인덱스가 문자열인 경우 달리 작동:\n",
    "f = ['banana', 'apple', 'grape', np.nan] # 마지막 값은 결측값으로 설정\n",
    "s = pd.Series(f, index = list('abcd'))\n",
    "\n",
    "s['a':'b']\n",
    "# a부터 b까지로 인식함 >> 초과, 미만X"
   ]
  },
  {
   "cell_type": "markdown",
   "id": "fa8c9b18-aec3-4ef0-898c-55a9a0a735a2",
   "metadata": {},
   "source": [
    "# 데이터 프레임"
   ]
  },
  {
   "cell_type": "code",
   "execution_count": 64,
   "id": "df7b5346-2e65-4daf-b0e4-2dca7e16e68c",
   "metadata": {},
   "outputs": [
    {
     "data": {
      "text/html": [
       "<div>\n",
       "<style scoped>\n",
       "    .dataframe tbody tr th:only-of-type {\n",
       "        vertical-align: middle;\n",
       "    }\n",
       "\n",
       "    .dataframe tbody tr th {\n",
       "        vertical-align: top;\n",
       "    }\n",
       "\n",
       "    .dataframe thead th {\n",
       "        text-align: right;\n",
       "    }\n",
       "</style>\n",
       "<table border=\"1\" class=\"dataframe\">\n",
       "  <thead>\n",
       "    <tr style=\"text-align: right;\">\n",
       "      <th></th>\n",
       "      <th>0</th>\n",
       "      <th>1</th>\n",
       "      <th>2</th>\n",
       "    </tr>\n",
       "  </thead>\n",
       "  <tbody>\n",
       "    <tr>\n",
       "      <th>0</th>\n",
       "      <td>1</td>\n",
       "      <td>2</td>\n",
       "      <td>3</td>\n",
       "    </tr>\n",
       "    <tr>\n",
       "      <th>1</th>\n",
       "      <td>4</td>\n",
       "      <td>5</td>\n",
       "      <td>6</td>\n",
       "    </tr>\n",
       "    <tr>\n",
       "      <th>2</th>\n",
       "      <td>7</td>\n",
       "      <td>8</td>\n",
       "      <td>9</td>\n",
       "    </tr>\n",
       "  </tbody>\n",
       "</table>\n",
       "</div>"
      ],
      "text/plain": [
       "   0  1  2\n",
       "0  1  2  3\n",
       "1  4  5  6\n",
       "2  7  8  9"
      ]
     },
     "execution_count": 64,
     "metadata": {},
     "output_type": "execute_result"
    }
   ],
   "source": [
    "# 데이터 프레임 만들기\n",
    "d = pd.DataFrame([\n",
    "    [1,2,3],\n",
    "    [4,5,6],\n",
    "    [7,8,9]\n",
    "])\n",
    "\n",
    "d\n",
    "\n",
    "# row(가로), column(세로) 으로 인덱스 넣는 구조가 데이터 프레임"
   ]
  },
  {
   "cell_type": "code",
   "execution_count": 66,
   "id": "8beb1bb6-c1b2-499a-b0f5-2d13b8c0315e",
   "metadata": {},
   "outputs": [
    {
     "data": {
      "text/html": [
       "<div>\n",
       "<style scoped>\n",
       "    .dataframe tbody tr th:only-of-type {\n",
       "        vertical-align: middle;\n",
       "    }\n",
       "\n",
       "    .dataframe tbody tr th {\n",
       "        vertical-align: top;\n",
       "    }\n",
       "\n",
       "    .dataframe thead th {\n",
       "        text-align: right;\n",
       "    }\n",
       "</style>\n",
       "<table border=\"1\" class=\"dataframe\">\n",
       "  <thead>\n",
       "    <tr style=\"text-align: right;\">\n",
       "      <th></th>\n",
       "      <th>가</th>\n",
       "      <th>나</th>\n",
       "      <th>다</th>\n",
       "    </tr>\n",
       "  </thead>\n",
       "  <tbody>\n",
       "    <tr>\n",
       "      <th>0</th>\n",
       "      <td>1</td>\n",
       "      <td>2</td>\n",
       "      <td>3</td>\n",
       "    </tr>\n",
       "    <tr>\n",
       "      <th>1</th>\n",
       "      <td>4</td>\n",
       "      <td>5</td>\n",
       "      <td>6</td>\n",
       "    </tr>\n",
       "    <tr>\n",
       "      <th>2</th>\n",
       "      <td>7</td>\n",
       "      <td>8</td>\n",
       "      <td>9</td>\n",
       "    </tr>\n",
       "  </tbody>\n",
       "</table>\n",
       "</div>"
      ],
      "text/plain": [
       "   가  나  다\n",
       "0  1  2  3\n",
       "1  4  5  6\n",
       "2  7  8  9"
      ]
     },
     "execution_count": 66,
     "metadata": {},
     "output_type": "execute_result"
    }
   ],
   "source": [
    "d = pd.DataFrame([\n",
    "    [1,2,3],\n",
    "    [4,5,6],\n",
    "    [7,8,9]\n",
    "], columns = ['가', '나', '다'] )\n",
    "d\n",
    "\n",
    "# row는 별도로 인덱싱 않고, column은 데이터 대한 의미 "
   ]
  },
  {
   "cell_type": "code",
   "execution_count": 68,
   "id": "2f0831a8-8dcf-4280-a351-4a245ead738d",
   "metadata": {},
   "outputs": [
    {
     "data": {
      "text/html": [
       "<div>\n",
       "<style scoped>\n",
       "    .dataframe tbody tr th:only-of-type {\n",
       "        vertical-align: middle;\n",
       "    }\n",
       "\n",
       "    .dataframe tbody tr th {\n",
       "        vertical-align: top;\n",
       "    }\n",
       "\n",
       "    .dataframe thead th {\n",
       "        text-align: right;\n",
       "    }\n",
       "</style>\n",
       "<table border=\"1\" class=\"dataframe\">\n",
       "  <thead>\n",
       "    <tr style=\"text-align: right;\">\n",
       "      <th></th>\n",
       "      <th>name</th>\n",
       "      <th>age</th>\n",
       "    </tr>\n",
       "  </thead>\n",
       "  <tbody>\n",
       "    <tr>\n",
       "      <th>0</th>\n",
       "      <td>김</td>\n",
       "      <td>10</td>\n",
       "    </tr>\n",
       "    <tr>\n",
       "      <th>1</th>\n",
       "      <td>이</td>\n",
       "      <td>20</td>\n",
       "    </tr>\n",
       "    <tr>\n",
       "      <th>2</th>\n",
       "      <td>박</td>\n",
       "      <td>30</td>\n",
       "    </tr>\n",
       "  </tbody>\n",
       "</table>\n",
       "</div>"
      ],
      "text/plain": [
       "  name  age\n",
       "0    김   10\n",
       "1    이   20\n",
       "2    박   30"
      ]
     },
     "execution_count": 68,
     "metadata": {},
     "output_type": "execute_result"
    }
   ],
   "source": [
    "# dict 활용해 표 그리기\n",
    "\n",
    "info = {\n",
    "    'name': ['김', '이', '박'],\n",
    "    'age': [10,20,30]\n",
    "}\n",
    "pd.DataFrame(info)"
   ]
  },
  {
   "cell_type": "code",
   "execution_count": 72,
   "id": "e75dec6e-8c07-49a8-8966-aec8fa128ef0",
   "metadata": {},
   "outputs": [
    {
     "data": {
      "text/html": [
       "<div>\n",
       "<style scoped>\n",
       "    .dataframe tbody tr th:only-of-type {\n",
       "        vertical-align: middle;\n",
       "    }\n",
       "\n",
       "    .dataframe tbody tr th {\n",
       "        vertical-align: top;\n",
       "    }\n",
       "\n",
       "    .dataframe thead th {\n",
       "        text-align: right;\n",
       "    }\n",
       "</style>\n",
       "<table border=\"1\" class=\"dataframe\">\n",
       "  <thead>\n",
       "    <tr style=\"text-align: right;\">\n",
       "      <th></th>\n",
       "      <th>0</th>\n",
       "      <th>1</th>\n",
       "      <th>2</th>\n",
       "    </tr>\n",
       "  </thead>\n",
       "  <tbody>\n",
       "    <tr>\n",
       "      <th>name</th>\n",
       "      <td>김</td>\n",
       "      <td>이</td>\n",
       "      <td>박</td>\n",
       "    </tr>\n",
       "    <tr>\n",
       "      <th>age</th>\n",
       "      <td>10</td>\n",
       "      <td>20</td>\n",
       "      <td>30</td>\n",
       "    </tr>\n",
       "  </tbody>\n",
       "</table>\n",
       "</div>"
      ],
      "text/plain": [
       "       0   1   2\n",
       "name   김   이   박\n",
       "age   10  20  30"
      ]
     },
     "execution_count": 72,
     "metadata": {},
     "output_type": "execute_result"
    }
   ],
   "source": [
    "info_df = pd.DataFrame(info)\n",
    "info_df.index # 가로 행 몇 개 있는지 정보 출력\n",
    "info_df.columns # 세로 열의 정보 출력\n",
    "info_df.values # 데이터 값(= values) 정보 출력\n",
    "\n",
    "info_df.dtypes # name, age 서로 다른 2개의 데이터 타입 정보 출력해줌\n",
    "\n",
    "info_df.T # 행/열 전환하기"
   ]
  },
  {
   "cell_type": "code",
   "execution_count": 77,
   "id": "23872dd3-ee34-4eb7-8358-8a96e855e4a7",
   "metadata": {},
   "outputs": [
    {
     "data": {
      "text/html": [
       "<div>\n",
       "<style scoped>\n",
       "    .dataframe tbody tr th:only-of-type {\n",
       "        vertical-align: middle;\n",
       "    }\n",
       "\n",
       "    .dataframe tbody tr th {\n",
       "        vertical-align: top;\n",
       "    }\n",
       "\n",
       "    .dataframe thead th {\n",
       "        text-align: right;\n",
       "    }\n",
       "</style>\n",
       "<table border=\"1\" class=\"dataframe\">\n",
       "  <thead>\n",
       "    <tr style=\"text-align: right;\">\n",
       "      <th></th>\n",
       "      <th>age</th>\n",
       "      <th>name</th>\n",
       "    </tr>\n",
       "  </thead>\n",
       "  <tbody>\n",
       "    <tr>\n",
       "      <th>a</th>\n",
       "      <td>10</td>\n",
       "      <td>김</td>\n",
       "    </tr>\n",
       "    <tr>\n",
       "      <th>b</th>\n",
       "      <td>20</td>\n",
       "      <td>이</td>\n",
       "    </tr>\n",
       "    <tr>\n",
       "      <th>c</th>\n",
       "      <td>30</td>\n",
       "      <td>박</td>\n",
       "    </tr>\n",
       "  </tbody>\n",
       "</table>\n",
       "</div>"
      ],
      "text/plain": [
       "   age name\n",
       "a   10    김\n",
       "b   20    이\n",
       "c   30    박"
      ]
     },
     "execution_count": 77,
     "metadata": {},
     "output_type": "execute_result"
    }
   ],
   "source": [
    "#인덱스 다루기: Series와 동일한 원리\n",
    "info_df.index = list('abc') # row 이름 변경 가능 >> 근데 일반적으로 바꾸진 않음\n",
    "info_df\n",
    "\n",
    "# 컬럼 다루기\n",
    "info_df['name']\n",
    "    # 데이터 프레임은 2차원의 표 형태임 >> 근데 name 등 특정 컬럼 가져올 경우, 이는 시리즈로서 바라보는 셈임\n",
    "\n",
    "# 근데 팬시 인덱싱 통해 2개 이상 컬럼 가져올 시, 시리즈가 아닌 내가 지정한 순서대로 만든 새 형태의 데이터 프레임임\n",
    "    # 컬럼 팬시 인덱싱하는 방법\n",
    "info_df[['age', 'name']] "
   ]
  },
  {
   "cell_type": "code",
   "execution_count": 83,
   "id": "3a3b23f9-c8c4-4e71-b980-f9521b2a4ce9",
   "metadata": {},
   "outputs": [
    {
     "data": {
      "text/html": [
       "<div>\n",
       "<style scoped>\n",
       "    .dataframe tbody tr th:only-of-type {\n",
       "        vertical-align: middle;\n",
       "    }\n",
       "\n",
       "    .dataframe tbody tr th {\n",
       "        vertical-align: top;\n",
       "    }\n",
       "\n",
       "    .dataframe thead th {\n",
       "        text-align: right;\n",
       "    }\n",
       "</style>\n",
       "<table border=\"1\" class=\"dataframe\">\n",
       "  <thead>\n",
       "    <tr style=\"text-align: right;\">\n",
       "      <th></th>\n",
       "      <th>이름</th>\n",
       "      <th>age</th>\n",
       "    </tr>\n",
       "  </thead>\n",
       "  <tbody>\n",
       "    <tr>\n",
       "      <th>a</th>\n",
       "      <td>김</td>\n",
       "      <td>10</td>\n",
       "    </tr>\n",
       "    <tr>\n",
       "      <th>b</th>\n",
       "      <td>이</td>\n",
       "      <td>20</td>\n",
       "    </tr>\n",
       "    <tr>\n",
       "      <th>c</th>\n",
       "      <td>박</td>\n",
       "      <td>30</td>\n",
       "    </tr>\n",
       "  </tbody>\n",
       "</table>\n",
       "</div>"
      ],
      "text/plain": [
       "  이름  age\n",
       "a  김   10\n",
       "b  이   20\n",
       "c  박   30"
      ]
     },
     "execution_count": 83,
     "metadata": {},
     "output_type": "execute_result"
    }
   ],
   "source": [
    "# 컬럼 이름 수정하기: 재할당 해줘야 수정 완료됨\n",
    "info_df = info_df.rename(columns={'name': '이름'}) # 복제해 변경\n",
    "info_df\n"
   ]
  },
  {
   "cell_type": "code",
   "execution_count": 87,
   "id": "7052b5a7-3e0b-4e86-b103-5977ac05b6e3",
   "metadata": {},
   "outputs": [
    {
     "ename": "SyntaxError",
     "evalue": "':' expected after dictionary key (1453774387.py, line 1)",
     "output_type": "error",
     "traceback": [
      "\u001b[1;36m  Cell \u001b[1;32mIn[87], line 1\u001b[1;36m\u001b[0m\n\u001b[1;33m    info_df.rename(columns={'이름': 'last_name', inplace=True})\u001b[0m\n\u001b[1;37m                                                     ^\u001b[0m\n\u001b[1;31mSyntaxError\u001b[0m\u001b[1;31m:\u001b[0m ':' expected after dictionary key\n"
     ]
    }
   ],
   "source": [
    "info_df.rename(columns={'이름': 'last_name', inplace=True})\n",
    "# inplace 주면 강제로 데이터 프레임 이름 변경하게 해줌 >> 원본 변경"
   ]
  }
 ],
 "metadata": {
  "kernelspec": {
   "display_name": "Python 3 (ipykernel)",
   "language": "python",
   "name": "python3"
  },
  "language_info": {
   "codemirror_mode": {
    "name": "ipython",
    "version": 3
   },
   "file_extension": ".py",
   "mimetype": "text/x-python",
   "name": "python",
   "nbconvert_exporter": "python",
   "pygments_lexer": "ipython3",
   "version": "3.13.2"
  }
 },
 "nbformat": 4,
 "nbformat_minor": 5
}
