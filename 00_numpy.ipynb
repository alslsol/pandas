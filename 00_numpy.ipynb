{
 "cells": [
  {
   "cell_type": "code",
   "execution_count": 156,
   "id": "05dcbebe-a9cd-4dd4-b9bb-bb098038db41",
   "metadata": {},
   "outputs": [
    {
     "data": {
      "text/plain": [
       "array([   0,    1,    2, ..., 9997, 9998, 9999], shape=(10000,))"
      ]
     },
     "execution_count": 156,
     "metadata": {},
     "output_type": "execute_result"
    }
   ],
   "source": [
    "import numpy as np # import: 라이브러리 불러오기, numpy 불러오는데, 이를 np로 지금부터 부르겠단 것\n",
    "\n",
    "my_array = np.arange(10000)\n",
    "my_list = list(range(10000))\n",
    "my_array"
   ]
  },
  {
   "cell_type": "code",
   "execution_count": 2,
   "id": "af77aef2-8c06-4eae-9dbe-7ef60fc5f486",
   "metadata": {},
   "outputs": [],
   "source": [
    "my_list2 = [i * 2 for i in my_list]\n",
    "my_array2 = my_array * 2 # np는 배열 편하게 다루기 위해 사용 >> numpy에 *2하면, 각 요소 하나하나에 접근해 *2해줌\n",
    "    # numpy는 배열 형태 데이터 다루는 데 특화 >> 시간 단축해 효율적으로 다룰 수 있음"
   ]
  },
  {
   "cell_type": "code",
   "execution_count": 3,
   "id": "acfc2235-7c55-4dab-a4ec-3fe7266ad355",
   "metadata": {},
   "outputs": [
    {
     "name": "stdout",
     "output_type": "stream",
     "text": [
      "[[   1.     1.2    3. ]\n",
      " [-123.   123.     0. ]]\n"
     ]
    }
   ],
   "source": [
    "# 2차원 리스트: 리스트 내에 리스트 넣은 것\n",
    "a = [\n",
    "    [1, 1.2, 3],\n",
    "    [-123, 123, 0]\n",
    "]\n",
    "# 일괄적으로 데이터 유형 정수에서 소수로 동일히 만들어줌 >> 연산 편하게 하기 위해 더 연산 편한 쪽으로 데이터 형태 바꾼 것\n",
    "    \n",
    "\n",
    "data = np.array(a)\n",
    "print(data)"
   ]
  },
  {
   "cell_type": "code",
   "execution_count": 5,
   "id": "c9c8b695-943a-48ad-b816-e794aec592d8",
   "metadata": {},
   "outputs": [
    {
     "name": "stdout",
     "output_type": "stream",
     "text": [
      "[[   10.    12.    30.]\n",
      " [-1230.  1230.     0.]]\n",
      "[[   2.     2.4    6. ]\n",
      " [-246.   246.     0. ]]\n",
      "(2, 3)\n",
      "float64\n"
     ]
    }
   ],
   "source": [
    "# 0차원: 스칼라 >> 단일 데이터, 1차원: 벡터, 2차원: 행렬(matrix), 3차원: 텐서(tenser)\n",
    "print(data * 10) # 곱셈 연산할 때, 각 하나의 모든 데이터에 해당 곱셈 연산 수행 >> 파이썬 기본 문법일 시 list를 10번 반복하는 식\n",
    "\n",
    "print(data + data) # 리스트끼리 덧셈도 가능 >> 각 요소끼리 더해줌\n",
    "\n",
    "print(data.shape) # 가로-세로 크기 알려줌 >> 데이터 프레임 모양 알려주는 것\n",
    "print(data.dtype) # 세부 데이터 알려줌 >> 소수일 시 flort로 알려주는 것"
   ]
  },
  {
   "cell_type": "code",
   "execution_count": 9,
   "id": "caa4a601-51db-4d6c-840e-3b2b86352a2c",
   "metadata": {},
   "outputs": [
    {
     "name": "stdout",
     "output_type": "stream",
     "text": [
      "<class 'numpy.ndarray'>\n"
     ]
    }
   ],
   "source": [
    "# ndarry 생성하기\n",
    "\n",
    "\n",
    "data1 = [1,2,3,4,5]\n",
    "arr1 = np.array(data1) # 어레이 형태로 변환해서 arr1 변수에 넣기\n",
    "arr1\n",
    "print(type(arr1)) # <class 'numpy.ndarray'>: numpy 안에 있는 ndarray라는 클래스 >> 넘파이에서 만들어지는 모든 어레이는 ndarray에서 만들어짐\n"
   ]
  },
  {
   "cell_type": "code",
   "execution_count": 12,
   "id": "24a1f671-a7d2-444f-a6f8-441a037b463a",
   "metadata": {},
   "outputs": [
    {
     "name": "stdout",
     "output_type": "stream",
     "text": [
      "[[1.1 1.2]\n",
      " [3.3 4.4]]\n",
      "<class 'numpy.ndarray'>\n"
     ]
    }
   ],
   "source": [
    "arr2 = np.array([[1.1, 1.2],[3.3, 4.4]]) # 2차원 배열 만들기: 리스트 만든 뒤, 이를 np.array에 넣기\n",
    "print(arr2)\n",
    "print(type(arr2))"
   ]
  },
  {
   "cell_type": "code",
   "execution_count": 16,
   "id": "526783c9-d9fe-4660-965d-bd35c3efe231",
   "metadata": {},
   "outputs": [
    {
     "name": "stdout",
     "output_type": "stream",
     "text": [
      "1\n",
      "2\n",
      "(5,)\n",
      "(2, 2)\n"
     ]
    }
   ],
   "source": [
    "# 배열의 차원 수를 알려줌\n",
    "print(arr1.ndim) # 1차원 데이터 == 벡터\n",
    "print(arr2.ndim) # 2차원 데이터 == \n",
    "\n",
    "# 모든 데이터의 구조 보기\n",
    "print(arr1.shape) # 0차원의 데이터 값만 있는 구조라서 y값 비어 있는 것\n",
    "print(arr2.shape)"
   ]
  },
  {
   "cell_type": "code",
   "execution_count": 21,
   "id": "bb1b8d01-9625-4439-9667-b3e70a861ba3",
   "metadata": {},
   "outputs": [
    {
     "name": "stdout",
     "output_type": "stream",
     "text": [
      "[0. 0. 0. 0. 0. 0. 0. 0. 0. 0.]\n",
      "[0. 0. 0. 0. 0. 0. 0. 0. 0. 0.]\n",
      "[[0. 0. 0. 0. 0.]\n",
      " [0. 0. 0. 0. 0.]\n",
      " [0. 0. 0. 0. 0.]\n",
      " [0. 0. 0. 0. 0.]\n",
      " [0. 0. 0. 0. 0.]]\n",
      "[[[0. 0.]\n",
      "  [0. 0.]]\n",
      "\n",
      " [[0. 0.]\n",
      "  [0. 0.]]]\n"
     ]
    }
   ],
   "source": [
    "print(np.zeros(10)) # 0이 10개 있는 배열 만들어줌 >> 0이라는 리스트를 10번 반복해달라는 것과 동일한 원리\n",
    "    # 배열 구조를 먼저 잡고 이후 데이터 값 할당하기 위해 사용\n",
    "\n",
    "print(np.zeros(10))\n",
    "print(np.zeros( (5, 5) )) # 튜플 (5,5) 입력하는데, 이는 가로-세로 5개씩인데, 값은 0으로 채워진 배열 만들기\n",
    "print(np.empty((2,2,2))) # 가로세로 2,2인 2개의 서로 다른 배열 만드는 것"
   ]
  },
  {
   "cell_type": "code",
   "execution_count": 23,
   "id": "8c5be321-9c7f-4269-8909-d00aaf925174",
   "metadata": {},
   "outputs": [
    {
     "name": "stdout",
     "output_type": "stream",
     "text": [
      "[0 1 2 3 4 5 6 7 8 9]\n"
     ]
    }
   ],
   "source": [
    "print(np.arange(10)) # 0-9까지의 순서 있는 배열 만들어줌"
   ]
  },
  {
   "cell_type": "code",
   "execution_count": 28,
   "id": "94edaac1-e27e-4b93-8b03-85fb8066a11e",
   "metadata": {},
   "outputs": [
    {
     "name": "stdout",
     "output_type": "stream",
     "text": [
      "float64\n",
      "int32\n"
     ]
    }
   ],
   "source": [
    "## ndarray 자료형\n",
    "\n",
    "#배열 생성할 때 자료형 변경하기\n",
    "    # dtype 인자 직접 설정해서 해당 배열을 어떻게 바라볼 것인지 지정 가능\n",
    "arr1 = np.array([1,2,3], dtype= np.float64)\n",
    "arr2 = np.array([1,2,3], dtype= np.int32)\n",
    "\n",
    "print(arr1.dtype) # int 형태의 64비트 형태라고 출력\n",
    "print(arr2.dtype)"
   ]
  },
  {
   "cell_type": "code",
   "execution_count": 34,
   "id": "9161a393-f93c-4ca3-905e-8528ef8435b0",
   "metadata": {},
   "outputs": [
    {
     "name": "stdout",
     "output_type": "stream",
     "text": [
      "int64\n",
      "[1. 2. 3.]\n",
      "float64\n"
     ]
    }
   ],
   "source": [
    "# 배열 먼저 만든 이후, 자료형 변경하기\n",
    "arr1 = np.array([1,2,3])\n",
    "print(arr1.dtype)\n",
    "float_arr1 = arr1.astype(np.float64) # 형변환해주는 함수\n",
    "print(float_arr1)\n",
    "print(float_arr1.dtype)"
   ]
  },
  {
   "cell_type": "code",
   "execution_count": 37,
   "id": "8f99e3a3-6e52-4ab6-9442-ab6bf6008822",
   "metadata": {},
   "outputs": [
    {
     "name": "stdout",
     "output_type": "stream",
     "text": [
      "float64\n",
      "[1 2 3]\n",
      "int64\n"
     ]
    }
   ],
   "source": [
    "# 소수를 정수로 변경한다면, 반올림 아니라 소수점 이후는 버림처리해서 정수형으로 강제로 형변환됨\n",
    "arr2 = np.array([1.1,2.2,3.3])\n",
    "print(arr2.dtype)\n",
    "int_arr2 = arr2.astype(np.int64)\n",
    "print(int_arr2)\n",
    "print(int_arr2.dtype)"
   ]
  },
  {
   "cell_type": "code",
   "execution_count": 46,
   "id": "83e215d7-d005-4cd7-8bb4-8f3cc1fc738f",
   "metadata": {},
   "outputs": [
    {
     "name": "stdout",
     "output_type": "stream",
     "text": [
      "[[1 2 3]\n",
      " [4 5 6]]\n",
      "[[ 1  4  9]\n",
      " [16 25 36]]\n",
      "[[ 2  4  6]\n",
      " [ 8 10 12]]\n",
      "[[1.         0.5        0.33333333]\n",
      " [0.25       0.2        0.16666667]]\n",
      "[[  1   8  27]\n",
      " [ 64 125 216]]\n"
     ]
    }
   ],
   "source": [
    "arr = np.array([[1,2,3], [4,5,6]])\n",
    "print(arr)\n",
    "\n",
    "# 동일 위치끼리 연산 이뤄짐\n",
    "print(arr * arr)\n",
    "print(arr + arr)\n",
    "print(1 / arr)\n",
    "print(arr ** 3)"
   ]
  },
  {
   "cell_type": "code",
   "execution_count": 50,
   "id": "48c73359-bd23-4886-af7d-c56f366ff026",
   "metadata": {},
   "outputs": [
    {
     "name": "stdout",
     "output_type": "stream",
     "text": [
      "[[1 2 3]\n",
      " [4 5 6]]\n",
      "[[3 2 1]\n",
      " [1 2 3]]\n",
      "[[False False  True]\n",
      " [ True  True  True]]\n",
      "[[False  True False]\n",
      " [False False False]]\n"
     ]
    }
   ],
   "source": [
    "arr2 = np.array([[3,2,1], [1,2,3]])\n",
    "print(arr)\n",
    "print(arr2)\n",
    "\n",
    "print(arr > arr2) # 두 배열 중 무엇이 큰지 비교하기 >> 전체 행렬이 아닌, 각 위치에 따른 데이터끼리 비교\n",
    "\n",
    "print(arr == arr2) "
   ]
  },
  {
   "cell_type": "code",
   "execution_count": 55,
   "id": "6c91fb45-e6a3-4de6-9121-4d0071ee4e9f",
   "metadata": {},
   "outputs": [
    {
     "name": "stdout",
     "output_type": "stream",
     "text": [
      "[0 1 2 3 4 5 6 7 8 9]\n",
      "[2 3 4]\n"
     ]
    }
   ],
   "source": [
    "arr = np.arange(10) # 0-9까지 값 넣은 배열 만듦\n",
    "print(arr)\n",
    "arr[5] # 5번째 데이터 값 접근\n",
    "print(arr[2:5]) # 2번째부터 4번째까지 데이터 슬라이싱해 출력"
   ]
  },
  {
   "cell_type": "code",
   "execution_count": 56,
   "id": "2e8d5189-2c12-4d91-a1bc-3f446affcbe2",
   "metadata": {},
   "outputs": [
    {
     "name": "stdout",
     "output_type": "stream",
     "text": [
      "[ 0  1 10 10 10  5  6  7  8  9]\n"
     ]
    }
   ],
   "source": [
    "# 배열 슬라이싱 한 뒤 대신 10 넣기\n",
    "arr[2:5] = 10\n",
    "print(arr) # 기존 2, 3, 4 대신 10, 10, 10 넣음\n",
    "# 파이썬에서 슬라이싱: 원본 카피한 버전을 슬라이싱해서 원본은 수정X >> 근데 넘파이는 원본도 바뀌게 설계됨\n",
    "    # 넘파이는 대량 데이터 다루는 모듈임 >> 메모리 절약 위해 원본 수정하도록 함"
   ]
  },
  {
   "cell_type": "code",
   "execution_count": 60,
   "id": "7ea77831-775d-4ef2-9b91-d76db1bc6ad7",
   "metadata": {},
   "outputs": [
    {
     "name": "stdout",
     "output_type": "stream",
     "text": [
      "[[1 2 3]\n",
      " [4 5 6]]\n",
      "5\n"
     ]
    }
   ],
   "source": [
    "# 2차원 데이터 색인하기\n",
    "arr = np.array([[1,2,3],[4,5,6]])\n",
    "print(arr) # 2행 3열 형태의 배열 만들어짐\n",
    "# 5 접근해 출력\n",
    "print(arr[1,1]) # 1번째 행의, 1번째 열에 접근한단 것"
   ]
  },
  {
   "cell_type": "code",
   "execution_count": 110,
   "id": "bb0f8522-a552-4617-a578-59e2937ec117",
   "metadata": {},
   "outputs": [
    {
     "name": "stdout",
     "output_type": "stream",
     "text": [
      "22\n"
     ]
    }
   ],
   "source": [
    "# 3차원 데이터 색인\n",
    "arr3d = np.array([[[1,2,3], [4,5,6], [7,8,9]],\n",
    "                [[11,12,13], [14,15,16], [17,18,19]],\n",
    "                [[11, 22, 33], [44,55,66], [77,88,99]]])\n",
    "\n",
    "# 22 찾기\n",
    "print(arr3d[2, 0, 1]) # 2번째 행의, 0번째 열의, 1번재 데이터 출력"
   ]
  },
  {
   "cell_type": "code",
   "execution_count": 111,
   "id": "a94a4881-c34d-4e00-88ca-31f8821bcbaf",
   "metadata": {},
   "outputs": [
    {
     "data": {
      "text/plain": [
       "array([[[ 1,  2,  3],\n",
       "        [ 4,  5,  6],\n",
       "        [ 7,  8,  9]],\n",
       "\n",
       "       [[11, 12, 13],\n",
       "        [14, 15, 16],\n",
       "        [17, 18, 19]],\n",
       "\n",
       "       [[11, 22, 33],\n",
       "        [44, 55, 66],\n",
       "        [77, 88, 99]]])"
      ]
     },
     "execution_count": 111,
     "metadata": {},
     "output_type": "execute_result"
    }
   ],
   "source": [
    "arr3d"
   ]
  },
  {
   "cell_type": "code",
   "execution_count": 135,
   "id": "9e99c4d8-f417-45c3-96c4-4af6a216f5d2",
   "metadata": {},
   "outputs": [
    {
     "name": "stdout",
     "output_type": "stream",
     "text": [
      "[[[ 1  2  3]\n",
      "  [ 4  5  6]\n",
      "  [ 7  8  9]]\n",
      "\n",
      " [[11 12 13]\n",
      "  [14 15 16]\n",
      "  [17 18 19]]\n",
      "\n",
      " [[11 22 33]\n",
      "  [44 55 66]\n",
      "  [77 88 99]]]\n",
      "[[7 8 9]]\n",
      "[[5 6]\n",
      " [8 9]]\n"
     ]
    }
   ],
   "source": [
    "arr3d[:1] # 0번째부터 1번재 열까지만 자르기\n",
    "\n",
    "# 0: index 접근을 하는 것 >> 0번째 행에 들어간 뒤\n",
    "print(arr3d)\n",
    "print(arr3d[0, 1:][1:]) # 0: 0번째 행 선택, 1: : 0번째 행의 1번째 행부터 끝까지 선택, 1: : 그 1번째 행의 1번째 행부터 끝까지\n",
    "print(arr3d[0, 1:, 1:]) # 0번째 행 선택, 1: : 0번째 행의 1번째 행부터 선택, 1: 그 1번째 행의 1번째 열부터 끝까지 선택"
   ]
  },
  {
   "cell_type": "code",
   "execution_count": 74,
   "id": "ff1dac1f-08e7-49ad-91de-13268289fce4",
   "metadata": {},
   "outputs": [
    {
     "data": {
      "text/plain": [
       "array([ True, False,  True, False])"
      ]
     },
     "execution_count": 74,
     "metadata": {},
     "output_type": "execute_result"
    }
   ],
   "source": [
    "# 이름 4개 들어 있는 list\n",
    "names = np.array(['hong', 'kim', 'hong', 'kim'])\n",
    "# data 중 hong의 데이터만 고르기\n",
    "data = np.array([['math', 60], ['math', 90], ['engilsh', 70], ['engilsh', 50]])\n",
    "\n",
    "# 그러기 위해 먼저 불리언 데이터로 만들어야 함\n",
    "    # 넘파이에서는 ==으로 비교 가능\n",
    "names == 'hong'"
   ]
  },
  {
   "cell_type": "code",
   "execution_count": 75,
   "id": "9a731552-5f20-4d51-9d4b-c3b385b57833",
   "metadata": {},
   "outputs": [
    {
     "data": {
      "text/plain": [
       "array([['math', '60'],\n",
       "       ['engilsh', '70']], dtype='<U21')"
      ]
     },
     "execution_count": 75,
     "metadata": {},
     "output_type": "execute_result"
    }
   ],
   "source": [
    "# 데이터로 인덱스 접근할 때 names == 'hong'을 활용할 것\n",
    "data[names == 'hong'] # data 안에 [[true], [fals], [true], [fals]]를 넣어서, true 값만 출력하는 원리\n",
    "# 특정 조건에 맞는 데이터 고를 때 활용"
   ]
  },
  {
   "cell_type": "code",
   "execution_count": 79,
   "id": "bb96279a-58f8-4bdd-ac01-0aa33e424fa4",
   "metadata": {},
   "outputs": [
    {
     "data": {
      "text/plain": [
       "array([['math'],\n",
       "       ['engilsh']], dtype='<U21')"
      ]
     },
     "execution_count": 79,
     "metadata": {},
     "output_type": "execute_result"
    }
   ],
   "source": [
    "data[names == 'hong', 1] # hong의 수학, 영어 점수만 출력하기 >> 인덱스 접근한 것\n",
    "data[names == 'hong', :1] # 0번째 출력 >> 슬라이싱 한 것\n",
    "# 인덱스 / 슬라이싱 접근 따라 출력된 데이터 형태 다름"
   ]
  },
  {
   "cell_type": "code",
   "execution_count": 82,
   "id": "3d6759d8-65a3-4344-8c0b-a1f1f3357e70",
   "metadata": {},
   "outputs": [
    {
     "name": "stdout",
     "output_type": "stream",
     "text": [
      "[False  True False  True]\n",
      "[False  True False  True]\n"
     ]
    }
   ],
   "source": [
    "# hong이 아닌 사람을 고르기\n",
    "print(names != 'hong') # !=: hong이 아닌 이름을 고르기\n",
    "print(~(names == 'hong')) # ~: 계산 결과 출력한 뒤, 그 결과의 역을 출력하는 것"
   ]
  },
  {
   "cell_type": "code",
   "execution_count": 83,
   "id": "11c3c73a-56fd-4836-9db8-a99d3b52a521",
   "metadata": {},
   "outputs": [
    {
     "data": {
      "text/plain": [
       "array([['math', '90'],\n",
       "       ['engilsh', '50']], dtype='<U21')"
      ]
     },
     "execution_count": 83,
     "metadata": {},
     "output_type": "execute_result"
    }
   ],
   "source": [
    "# 결과 연산한 값을 변수와 같은 컨디션에 저장 >> 그런 뒤 컨디션을 통해 인덱스 접근하는 게 일반적\n",
    "cond = names == 'kim'\n",
    "data[cond]"
   ]
  },
  {
   "cell_type": "code",
   "execution_count": 85,
   "id": "d49ab4c5-8dd3-4093-83da-68ef283a6669",
   "metadata": {},
   "outputs": [
    {
     "name": "stdout",
     "output_type": "stream",
     "text": [
      "[[0. 0. 0. 0.]\n",
      " [0. 0. 0. 0.]\n",
      " [0. 0. 0. 0.]\n",
      " [0. 0. 0. 0.]\n",
      " [0. 0. 0. 0.]\n",
      " [0. 0. 0. 0.]\n",
      " [0. 0. 0. 0.]\n",
      " [0. 0. 0. 0.]]\n"
     ]
    }
   ],
   "source": [
    "arr = np.zeros((8, 4))\n",
    "print(arr) # 8줄의 4칸짜리 배열 형성"
   ]
  },
  {
   "cell_type": "code",
   "execution_count": 87,
   "id": "893a9f5e-c92f-4c6b-92a7-708cc9435559",
   "metadata": {},
   "outputs": [
    {
     "name": "stdout",
     "output_type": "stream",
     "text": [
      "[[0. 0. 0. 0.]\n",
      " [1. 1. 1. 1.]\n",
      " [2. 2. 2. 2.]\n",
      " [3. 3. 3. 3.]\n",
      " [4. 4. 4. 4.]\n",
      " [5. 5. 5. 5.]\n",
      " [6. 6. 6. 6.]\n",
      " [7. 7. 7. 7.]]\n"
     ]
    }
   ],
   "source": [
    "# 같은 줄의 데이터는 동일 숫자 값 같도록 구조 잡기\n",
    "for i in range(8):\n",
    "    arr[i] = i\n",
    "print(arr)\n",
    "\n"
   ]
  },
  {
   "cell_type": "code",
   "execution_count": 89,
   "id": "a656d49a-a079-49aa-ad62-fb3ce2d91c40",
   "metadata": {},
   "outputs": [
    {
     "data": {
      "text/plain": [
       "array([[4., 4., 4., 4.],\n",
       "       [3., 3., 3., 3.],\n",
       "       [0., 0., 0., 0.],\n",
       "       [5., 5., 5., 5.]])"
      ]
     },
     "execution_count": 89,
     "metadata": {},
     "output_type": "execute_result"
    }
   ],
   "source": [
    "# 팬시 색인: 2, 4, 6번째 열만 색인 가능\n",
    "# 대괄호 안에 대괄호 >> 이후 입력하면, 원하는 것만 출력 가능, 내가 지정한 순서대로 출력 가능 \n",
    "arr[[4, 3, 0, 5]]"
   ]
  },
  {
   "cell_type": "code",
   "execution_count": 91,
   "id": "d0a97d8e-d3a8-42d3-94b0-4fcfb978694d",
   "metadata": {},
   "outputs": [
    {
     "data": {
      "text/plain": [
       "array([[5., 5., 5., 5.],\n",
       "       [3., 3., 3., 3.],\n",
       "       [7., 7., 7., 7.]])"
      ]
     },
     "execution_count": 91,
     "metadata": {},
     "output_type": "execute_result"
    }
   ],
   "source": [
    "# 음수 인덱스 접근도 가능\n",
    "arr[[-3, -5, -1]] # 뒤에서 3번째, 5번째, 1번째 행 선택"
   ]
  },
  {
   "cell_type": "code",
   "execution_count": 101,
   "id": "8038c182-69f1-4ce7-9cef-8a79a87857bc",
   "metadata": {},
   "outputs": [
    {
     "name": "stdout",
     "output_type": "stream",
     "text": [
      "[[ 0  1  2  3]\n",
      " [ 4  5  6  7]\n",
      " [ 8  9 10 11]\n",
      " [12 13 14 15]\n",
      " [16 17 18 19]\n",
      " [20 21 22 23]\n",
      " [24 25 26 27]\n",
      " [28 29 30 31]]\n",
      "[[ 4  5  6  7]\n",
      " [20 21 22 23]]\n",
      "[ 6 23]\n"
     ]
    },
    {
     "data": {
      "text/plain": [
       "array([[ 6,  7],\n",
       "       [22, 23]])"
      ]
     },
     "execution_count": 101,
     "metadata": {},
     "output_type": "execute_result"
    }
   ],
   "source": [
    "# 행과 열 동시에 선택하기\n",
    "\n",
    "arr = np.arange(32).reshape(8,4) # 0~31까지의 배열 만들기\n",
    "    # 한줄의 32개 있는 것을, 8,4 형태로 다시 구조화하기\n",
    "print(arr)\n",
    "print(arr[[1, 5]]) # 1번째, 5번째 행만 선택\n",
    "# 특정 2개만 접근하고 싶다면\n",
    "print(arr[[1, 5], [2, 3]]) # 1번째 행의 2번째 열, 5번째 행의 3번재 열 출력\n",
    "\n",
    "# 팬시 색인 이후 다시 팩시 색인하기\n",
    "arr[[1, 5]][:, [2, 3]] # 1번째 행의 2~3번째 열, 5번째 행의 2~3번째 열 선택"
   ]
  },
  {
   "cell_type": "code",
   "execution_count": 140,
   "id": "dbe080df-0b54-403b-9726-02d0e869ac57",
   "metadata": {},
   "outputs": [
    {
     "name": "stdout",
     "output_type": "stream",
     "text": [
      "[[0 1 2]\n",
      " [3 4 5]]\n",
      "[[0 3]\n",
      " [1 4]\n",
      " [2 5]]\n"
     ]
    }
   ],
   "source": [
    "### 배열 전치\n",
    "\n",
    "arr = np.arange(6).reshape(2,3) # 0~14 숫자를 (3,5) 형태 배열 만들기\n",
    "print(arr)\n",
    "\n",
    "print(arr.T) # 배열 반대로, 5열 3행으로 전환 >> 축 변경 시 사용\n",
    "\n",
    "# 그러면 행렬의 곱셈 가능하단 것"
   ]
  },
  {
   "cell_type": "code",
   "execution_count": 142,
   "id": "eed54edb-ca04-4bb0-9e20-8aeb6fda1c60",
   "metadata": {},
   "outputs": [
    {
     "data": {
      "text/plain": [
       "array([[ 5, 14],\n",
       "       [14, 50]])"
      ]
     },
     "execution_count": 142,
     "metadata": {},
     "output_type": "execute_result"
    }
   ],
   "source": [
    "# 기존\n",
    "arr * 3 # 각 하나의 요소마다 3씩 곱하게 됨\n",
    "\n",
    "# 행렬의 곱\n",
    "arr @ arr.T\n",
    "np.dot(arr, arr.T) # 위 행렬의 곱 코드와 동일 작동\n",
    "\n",
    "# ai 생태계에서 중요한 것 = 연산을 얼마나 빨리 하느냐, 어떤 연산을 하느냐 >> 이때 주로 행렬의 곱 연산을 함\n",
    "    # 행렬 얼마나 빨리 처리하는지가 성능 판가름 하는 것임 >> 그에 따라 고성능인지 판단되는 것\n",
    "\n",
    "# 0*0 + "
   ]
  },
  {
   "cell_type": "code",
   "execution_count": 146,
   "id": "15ff672f-b5ad-48f0-86ea-84130de55e03",
   "metadata": {},
   "outputs": [
    {
     "name": "stdout",
     "output_type": "stream",
     "text": [
      "[[-0.76183269 -1.77561372  0.66842651]\n",
      " [ 0.29934745  1.12619107 -0.59061693]\n",
      " [ 0.93856184  0.30366721  0.55314052]]\n"
     ]
    }
   ],
   "source": [
    "# 3,3 배열 만들기 >> 정규분포 따르는 랜덤 숫자 넣기\n",
    "samples = np.random.standard_normal(size = (3,3)) # random 내의 standard_normal 기능 활용하겠단 것\n",
    "print(samples)"
   ]
  },
  {
   "cell_type": "code",
   "execution_count": 151,
   "id": "25a4b32d-5afa-477e-a0eb-5f7aa6a9923e",
   "metadata": {},
   "outputs": [
    {
     "name": "stderr",
     "output_type": "stream",
     "text": [
      "C:\\Users\\1-08\\AppData\\Local\\Temp\\ipykernel_8136\\3314444035.py:2: RuntimeWarning: invalid value encountered in sqrt\n",
      "  arr1 = np.sqrt(samples)\n"
     ]
    }
   ],
   "source": [
    "# 배열 넘기면 모든 데이터를 루트 씌워 계산하기\n",
    "arr1 = np.sqrt(samples)\n",
    "\n",
    "# nan: 숫자가 아닙니다라는 것 >> 파이썬의 none과 같은 의미\n",
    "    # 루트 씌웠는데 그 수가 음수일 때 계산 못하니, 숫자 없다는 빈칸으로 출력한 것\n",
    "    # nan: 결측치임 >> 결측치: 데이터 없는 경우"
   ]
  },
  {
   "cell_type": "code",
   "execution_count": 149,
   "id": "bbc8bb76-52ac-4a51-80f0-989df9d896e9",
   "metadata": {},
   "outputs": [
    {
     "name": "stdout",
     "output_type": "stream",
     "text": [
      "[[0.76183269 1.77561372 0.66842651]\n",
      " [0.29934745 1.12619107 0.59061693]\n",
      " [0.93856184 0.30366721 0.55314052]]\n"
     ]
    }
   ],
   "source": [
    "arr2 = np.abs(samples)\n",
    "print(arr2)\n",
    "# 절대값으로 바꿔줌"
   ]
  },
  {
   "cell_type": "code",
   "execution_count": 152,
   "id": "de167c3e-f43a-43cf-9617-8659f404f8d9",
   "metadata": {},
   "outputs": [
    {
     "data": {
      "text/plain": [
       "array([[ True,  True, False],\n",
       "       [False, False,  True],\n",
       "       [False, False, False]])"
      ]
     },
     "execution_count": 152,
     "metadata": {},
     "output_type": "execute_result"
    }
   ],
   "source": [
    "np.isnan(arr1) # 현재 내 배열 중 nan이 있는지 확인해줌 >> true면 nan 값 있단 것"
   ]
  },
  {
   "cell_type": "code",
   "execution_count": null,
   "id": "1aa34a54-3d47-4e3c-bfd4-328a1e4f9b4e",
   "metadata": {},
   "outputs": [],
   "source": []
  }
 ],
 "metadata": {
  "kernelspec": {
   "display_name": "Python 3 (ipykernel)",
   "language": "python",
   "name": "python3"
  },
  "language_info": {
   "codemirror_mode": {
    "name": "ipython",
    "version": 3
   },
   "file_extension": ".py",
   "mimetype": "text/x-python",
   "name": "python",
   "nbconvert_exporter": "python",
   "pygments_lexer": "ipython3",
   "version": "3.13.2"
  }
 },
 "nbformat": 4,
 "nbformat_minor": 5
}
